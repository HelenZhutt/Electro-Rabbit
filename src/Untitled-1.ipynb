{
  "cells": [
    {
      "cell_type": "code",
      "execution_count": 1,
      "metadata": {
        "id": "A_kAwSjObqh3"
      },
      "outputs": [],
      "source": [
        "import librosa\n",
        "import numpy as np\n",
        "import os\n"
      ]
    },
    {
      "cell_type": "code",
      "execution_count": null,
      "metadata": {
        "id": "m1mEyu2ibqh5"
      },
      "outputs": [],
      "source": [
        "def preprocess_audio(file_path, output_path):\n",
        "    y, sr = librosa.load(file_path, sr=22050)  # 统一采样率为22050\n",
        "    y = librosa.effects.trim(y)[0]  # 去除静音部分\n",
        "    y = librosa.util.normalize(y)  # 归一化音频\n",
        "    output_file = os.path.join(output_path, os.path.basename(file_path))\n",
        "    librosa.output.write_wav(output_file, y, sr)\n",
        "\n",
        "input_dir = 'path/to/your/audio/files'\n",
        "output_dir = 'path/to/preprocessed/audio'\n",
        "os.makedirs(output_dir, exist_ok=True)\n",
        "\n",
        "for file_name in os.listdir(input_dir):\n",
        "    preprocess_audio(os.path.join(input_dir, file_name), output_dir)"
      ]
    },
    {
      "cell_type": "code",
      "source": [],
      "metadata": {
        "id": "cshJv_sFcmI3"
      },
      "execution_count": null,
      "outputs": []
    },
    {
      "cell_type": "code",
      "execution_count": null,
      "metadata": {
        "id": "MfuRoWIAbqh5",
        "outputId": "dc3d5a6f-6eac-4897-8ce2-a0d42ae2a9b9"
      },
      "outputs": [
        {
          "ename": "",
          "evalue": "",
          "output_type": "error",
          "traceback": [
            "\u001b[1;31mRunning cells with 'Python 3.12.1' requires the ipykernel package.\n",
            "\u001b[1;31mRun the following command to install 'ipykernel' into the Python environment. \n",
            "\u001b[1;31mCommand: '/opt/homebrew/bin/python3.12 -m pip install ipykernel -U --user --force-reinstall'"
          ]
        }
      ],
      "source": [
        "ffmpeg -i input_video.mp4 -q:a 0 -map a output_audio.wav"
      ]
    },
    {
      "cell_type": "code",
      "execution_count": null,
      "metadata": {
        "id": "hzwFoa8ybqh6"
      },
      "outputs": [],
      "source": []
    },
    {
      "cell_type": "code",
      "execution_count": null,
      "metadata": {
        "id": "ckwKmyQUbqh6"
      },
      "outputs": [],
      "source": []
    }
  ],
  "metadata": {
    "kernelspec": {
      "display_name": "Python 3",
      "language": "python",
      "name": "python3"
    },
    "language_info": {
      "name": "python",
      "version": "3.12.1"
    },
    "colab": {
      "provenance": []
    }
  },
  "nbformat": 4,
  "nbformat_minor": 0
}